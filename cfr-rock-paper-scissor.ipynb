{
 "cells": [
  {
   "cell_type": "code",
   "execution_count": 37,
   "metadata": {},
   "outputs": [],
   "source": [
    "import numpy as np\n",
    "import random\n",
    "import matplotlib.pyplot as plt"
   ]
  },
  {
   "cell_type": "code",
   "execution_count": 38,
   "metadata": {},
   "outputs": [],
   "source": [
    "ROCK, PAPER, SCISSORS = 0, 1, 2\n",
    "NUM_ACTIONS = 3\n",
    "\n",
    "def value(p1, p2):\n",
    "    if p1==p2:\n",
    "        return 0\n",
    "    if (p1-1) % NUM_ACTIONS == p2:\n",
    "        return 1\n",
    "    return -1"
   ]
  },
  {
   "cell_type": "code",
   "execution_count": 39,
   "metadata": {},
   "outputs": [],
   "source": [
    "def normalize(value):\n",
    "    normalizing_sum = np.sum(value)\n",
    "    if normalizing_sum > 0:\n",
    "        return value / normalizing_sum\n",
    "    return np.ones(value.shape[0])/value.shape[0]\n",
    "\n",
    "def get_strategy(regret_sum):\n",
    "    return normalize(np.maximum(regret_sum, 0))\n",
    "\n",
    "def get_action(strategy):\n",
    "    strategy = strategy / np.sum(strategy)\n",
    "    return np.searchsorted(np.cumsum(strategy), random.random())\n",
    "\n",
    "def get_utility(opponent_action):\n",
    "    action_utility = np.zeros(NUM_ACTIONS)\n",
    "    action_utility[opponent_action] = 0\n",
    "    action_utility[(opponent_action + 1) % NUM_ACTIONS] = 1\n",
    "    action_utility[(opponent_action - 1) % NUM_ACTIONS] = -1\n",
    "    return action_utility"
   ]
  },
  {
   "cell_type": "code",
   "execution_count": 40,
   "metadata": {},
   "outputs": [],
   "source": [
    "def inner_train(regret_sum, strategy_sum, opponent_strategy):\n",
    "    # accumulate the current strategy based on regret\n",
    "    strategy = get_strategy(regret_sum)\n",
    "    strategy_sum += strategy\n",
    "\n",
    "    # select my action and opponent action\n",
    "    my_action = get_action(strategy)\n",
    "    opponent_action = get_action(opponent_strategy)\n",
    "    \n",
    "    action_utility = get_utility(opponent_action)\n",
    "\n",
    "    regret_sum += action_utility - action_utility[my_action]\n",
    "    return regret_sum, strategy_sum\n",
    "\n",
    "\n",
    "def train(iterations):\n",
    "    regret_sum = np.zeros(NUM_ACTIONS)\n",
    "    strategy_sum = np.zeros(NUM_ACTIONS)\n",
    "    opponent_strategy = np.array([0.4, 0.3, 0.3])\n",
    "    \n",
    "    for _ in range(iterations):\n",
    "        regret_sum, strategy_sum = inner_train(regret_sum, strategy_sum, opponent_strategy)\n",
    "    return strategy_sum\n",
    "\n",
    "def train_2_players(outer_iterations, iterations):\n",
    "    strategy_sum_p1 = np.zeros(NUM_ACTIONS)\n",
    "    strategy_sum_p2 = np.zeros(NUM_ACTIONS)\n",
    "\n",
    "    for _ in range(outer_iterations):\n",
    "        opponent_strategy = normalize(strategy_sum_p2)\n",
    "        regret_sum_p1 = np.zeros(NUM_ACTIONS)\n",
    "        for i in range(iterations):\n",
    "            # train p1\n",
    "            regret_sum_p1, strategy_sum_p1 = inner_train(regret_sum_p1, strategy_sum_p1, opponent_strategy)\n",
    "\n",
    "        opponent_strategy = normalize(strategy_sum_p1)\n",
    "        regret_sum_p2 = np.zeros(NUM_ACTIONS)\n",
    "        for i in range(iterations):\n",
    "            # train p2\n",
    "            regret_sum_p2, strategy_sum_p2 = inner_train(regret_sum_p2, strategy_sum_p2, opponent_strategy)\n",
    "\n",
    "        print(normalize(strategy_sum_p1), normalize(strategy_sum_p2))\n",
    "    return strategy_sum_p1, strategy_sum_p2\n"
   ]
  },
  {
   "cell_type": "code",
   "execution_count": 41,
   "metadata": {},
   "outputs": [
    {
     "data": {
      "text/plain": [
       "array([2.41468484e-03, 9.97276870e-01, 3.08445132e-04])"
      ]
     },
     "execution_count": 41,
     "metadata": {},
     "output_type": "execute_result"
    }
   ],
   "source": [
    "strategy_sum = train(100000)\n",
    "normalize(strategy_sum)"
   ]
  },
  {
   "cell_type": "code",
   "execution_count": 42,
   "metadata": {},
   "outputs": [
    {
     "name": "stdout",
     "output_type": "stream",
     "text": [
      "[0.3772431  0.32881758 0.29393932] [0.09291774 0.89812538 0.00895688]\n",
      "[0.18878822 0.16486712 0.64634466] [0.54262554 0.44939602 0.00797844]\n",
      "[0.12623103 0.44276142 0.43100755] [0.36191702 0.30244179 0.33564118]\n",
      "[0.19993135 0.4695438  0.33052484] [0.2725586  0.22691468 0.50052672]\n",
      "[0.35594946 0.37644933 0.26760121] [0.22188561 0.36496633 0.41314806]\n",
      "[0.30685462 0.31404111 0.37910428] [0.34786367 0.30555323 0.34658311]\n",
      "[0.33985423 0.31815852 0.34198725] [0.35625685 0.27034858 0.37339456]\n",
      "[0.37211246 0.32128938 0.30659816] [0.32835802 0.34483841 0.32680358]\n",
      "[0.33371608 0.30911618 0.35716774] [0.35958275 0.33225506 0.30816219]\n",
      "[0.3014394  0.37649393 0.32206668] [0.32536172 0.30830125 0.36633703]\n",
      "[0.36473278 0.34243387 0.29283334] [0.29584399 0.32154488 0.38261113]\n",
      "[0.34985154 0.31627123 0.33387723] [0.27241255 0.37568076 0.3519067 ]\n",
      "[0.32362962 0.29299555 0.38337483] [0.32156716 0.34797558 0.33045726]\n",
      "[0.30972487 0.28468954 0.40558559] [0.36666538 0.32478247 0.30855215]\n",
      "[0.29375657 0.32101199 0.38523144] [0.39289126 0.30317785 0.30393089]\n",
      "[0.27541761 0.36340708 0.36117531] [0.41339518 0.28432299 0.30228184]\n",
      "[0.26089685 0.39911462 0.33998853] [0.38993566 0.26840978 0.34165457]\n",
      "[0.29225377 0.38662743 0.32111879] [0.36865096 0.25662899 0.37472005]\n",
      "[0.32412763 0.3697139  0.30615846] [0.36234361 0.25409433 0.38356206]\n",
      "[0.35671893 0.35191983 0.29136124] [0.34482308 0.28831835 0.36685857]\n"
     ]
    },
    {
     "data": {
      "text/plain": [
       "(array([0.35671893, 0.35191983, 0.29136124]),\n",
       " array([0.34482308, 0.28831835, 0.36685857]))"
      ]
     },
     "execution_count": 42,
     "metadata": {},
     "output_type": "execute_result"
    }
   ],
   "source": [
    "s1, s2 = train_2_players(20, 1000)\n",
    "normalize(s1), normalize(s2)"
   ]
  },
  {
   "cell_type": "code",
   "execution_count": 43,
   "metadata": {},
   "outputs": [
    {
     "name": "stdout",
     "output_type": "stream",
     "text": [
      "Mean score: 0.04 Median score: 0.0\n"
     ]
    },
    {
     "data": {
      "image/png": "[encoded data removed]",
      "text/plain": [
       "<Figure size 640x480 with 1 Axes>"
      ]
     },
     "metadata": {},
     "output_type": "display_data"
    }
   ],
   "source": [
    "games = []\n",
    "\n",
    "for j in range(100):\n",
    "    game_scores = 0\n",
    "    for i in range(100):\n",
    "        action = get_action(s1)\n",
    "        opponent_action = get_action(s2)\n",
    "        game_scores += get_utility(action)[opponent_action]\n",
    "    games.append(game_scores)\n",
    "\n",
    "plt.plot(sorted(games))\n",
    "print(\"Mean score:\", np.mean(games), \"Median score:\", np.median(games))"
   ]
  }
 ],
 "metadata": {
  "kernelspec": {
   "display_name": "Python 3",
   "language": "python",
   "name": "python3"
  },
  "language_info": {
   "codemirror_mode": {
    "name": "ipython",
    "version": 3
   },
   "file_extension": ".py",
   "mimetype": "text/x-python",
   "name": "python",
   "nbconvert_exporter": "python",
   "pygments_lexer": "ipython3",
   "version": "3.11.7"
  }
 },
 "nbformat": 4,
 "nbformat_minor": 2
}
