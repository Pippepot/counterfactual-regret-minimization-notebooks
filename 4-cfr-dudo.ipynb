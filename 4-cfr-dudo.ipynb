{
 "cells": [
  {
   "cell_type": "code",
   "execution_count": 1,
   "metadata": {},
   "outputs": [],
   "source": [
    "import numpy as np\n",
    "import matplotlib.pyplot as plt\n",
    "from tqdm import trange\n",
    "import sys"
   ]
  },
  {
   "cell_type": "code",
   "execution_count": 2,
   "metadata": {},
   "outputs": [],
   "source": [
    "# Standard setup is two players with one six-sided die each\n",
    "# Don't actually change this values, the rest of the program is hardcoded to use two players\n",
    "PLAYERS = 2\n",
    "# Each training iteration takes exponentially longer when DICE_PER_PLAYER or SIDES_PER_DIE is increased\n",
    "DICE_PER_PLAYER = 1\n",
    "SIDES_PER_DIE = 6\n",
    "NUM_ACTIONS = PLAYERS * DICE_PER_PLAYER * SIDES_PER_DIE + 1\n",
    "DUDO_ACTION = NUM_ACTIONS - 1\n",
    "# How many moves the model remembers.\n",
    "# This is an abstraction to reduce the number of possible history variations and the history stops mattering beyond a certain point (probably 2 maybe 3)\n",
    "HISTORY_RECALL = 2\n",
    "\n",
    "def action_to_claim(action):\n",
    "    if action == DUDO_ACTION:\n",
    "        return \"Dudo\"\n",
    "    claim_amount = int(np.ceil((1 + action) / SIDES_PER_DIE))\n",
    "    claim_rank = 1 + (1 + action) % SIDES_PER_DIE\n",
    "    return claim_amount, claim_rank"
   ]
  },
  {
   "cell_type": "code",
   "execution_count": 3,
   "metadata": {},
   "outputs": [],
   "source": [
    "class Node():\n",
    "    def __init__(self, rolls, history, num_actions):\n",
    "        self.rolls = rolls\n",
    "        self.history = history\n",
    "        self.num_actions = num_actions\n",
    "        self.regret_sum = np.zeros(num_actions)\n",
    "        self.strategy_sum = np.zeros(num_actions)\n",
    "\n",
    "    def __repr__(self):\n",
    "        history = str([action_to_claim(h) for h in self.history])\n",
    "        strategy = self.normalize(self.strategy_sum)\n",
    "        return str(self.rolls) + history + str(strategy)\n",
    "\n",
    "    def normalize(self, value):\n",
    "        normalizing_sum = np.sum(value)\n",
    "        if normalizing_sum > 0:\n",
    "            return value / normalizing_sum\n",
    "        return np.ones(self.num_actions) / self.num_actions\n",
    "\n",
    "    def get_strategy(self):\n",
    "        return self.normalize(np.maximum(self.regret_sum, 0))\n",
    "\n",
    "    def get_action(self):\n",
    "        strategy = self.get_strategy()\n",
    "        strategy /= np.sum(strategy)\n",
    "        return np.searchsorted(np.cumsum(strategy), np.random.random())"
   ]
  },
  {
   "cell_type": "code",
   "execution_count": 4,
   "metadata": {},
   "outputs": [],
   "source": [
    "def get_terminal_payout(history, rolls):\n",
    "    claim_amount, claim_rank = action_to_claim(history[-2])\n",
    "    real_amount = np.count_nonzero((rolls == claim_rank) | (rolls == 1))\n",
    "\n",
    "    return 1 if real_amount >= claim_amount else -1\n",
    "\n",
    "def get_node(nodes, history, player_roll) -> Node:\n",
    "    info_set_hash = str(player_roll) + str(history)\n",
    "    valid_actions = NUM_ACTIONS-1 if len(history) == 0 else NUM_ACTIONS - history[-1] - 1\n",
    "    node = nodes.get(info_set_hash, Node(player_roll, history, valid_actions))\n",
    "    nodes[info_set_hash] = node\n",
    "    return node\n",
    "\n",
    "def counter_factual_regret(nodes, player, rolls, history, realization_weight_p0, realization_weight_p1):\n",
    "    opponent = (player + 1) % 2\n",
    "    player_turn = player == 0\n",
    "\n",
    "    if len(history) > 0 and history[-1] == DUDO_ACTION:\n",
    "        return get_terminal_payout(history, rolls)\n",
    "\n",
    "    node = get_node(nodes, history, rolls[player])\n",
    "    strategy = node.get_strategy()\n",
    "    node.strategy_sum += strategy * (realization_weight_p0 if player_turn else realization_weight_p1)\n",
    "    \n",
    "    utility = np.zeros(node.num_actions)\n",
    "    node_utility = 0\n",
    "\n",
    "    invalid_actions = NUM_ACTIONS - node.num_actions if len(history) > 0 else 0\n",
    "    for action in range(invalid_actions, invalid_actions + min(node.num_actions, DUDO_ACTION)):\n",
    "        next_history = np.append(history[max(len(history)-HISTORY_RECALL+1, 0):], action)\n",
    "        action_index = action - invalid_actions\n",
    "        if player_turn:\n",
    "            utility[action_index] = -counter_factual_regret(nodes, opponent, rolls, next_history, strategy[action_index] * realization_weight_p0, realization_weight_p1)\n",
    "        else:\n",
    "            utility[action_index] = -counter_factual_regret(nodes, opponent, rolls, next_history, realization_weight_p0, strategy[action_index] * realization_weight_p1)\n",
    "        node_utility += strategy[action_index] * utility[action_index]\n",
    "\n",
    "    node.regret_sum += (utility - node_utility) * (realization_weight_p1 if player_turn else realization_weight_p0)\n",
    "    return node_utility\n",
    "\n",
    "def train(iterations):\n",
    "    nodes = {}\n",
    "\n",
    "    utility = 0\n",
    "    for _ in trange(iterations):\n",
    "        rolls = np.random.randint(1, SIDES_PER_DIE+1, (PLAYERS, DICE_PER_PLAYER))\n",
    "        utility += counter_factual_regret(nodes, 0, rolls, np.array([], dtype=int), 1, 1)\n",
    "\n",
    "    print(\"Average game value:\", utility / iterations)\n",
    "    print(\"Theoretical nash equilibrium average game value:\", -7/258)\n",
    "\n",
    "    LOG_NODE_PROBABILITIES = False\n",
    "    if LOG_NODE_PROBABILITIES:\n",
    "        nodes_values = dict(sorted(nodes.items(), key=lambda item: item[0]))\n",
    "        for n in nodes_values.values():\n",
    "            print(n)\n",
    "    return nodes"
   ]
  },
  {
   "cell_type": "code",
   "execution_count": 7,
   "metadata": {},
   "outputs": [
    {
     "name": "stderr",
     "output_type": "stream",
     "text": [
      "100%|██████████| 200/200 [01:10<00:00,  2.85it/s]"
     ]
    },
    {
     "name": "stdout",
     "output_type": "stream",
     "text": [
      "Average game value: -0.015373201077834022\n",
      "Theoretical nash equilibrium average game value: -0.027131782945736434\n"
     ]
    },
    {
     "name": "stderr",
     "output_type": "stream",
     "text": [
      "\n"
     ]
    }
   ],
   "source": [
    "np.random.seed(0)\n",
    "nodes = train(200)"
   ]
  },
  {
   "cell_type": "code",
   "execution_count": null,
   "metadata": {},
   "outputs": [
    {
     "name": "stdout",
     "output_type": "stream",
     "text": [
      "Mean score: 0.04 Median score: 0.0\n"
     ]
    },
    {
     "data": {
      "image/png": "[encoded data removed]",
      "text/plain": [
       "<Figure size 640x480 with 1 Axes>"
      ]
     },
     "metadata": {},
     "output_type": "display_data"
    }
   ],
   "source": [
    "# trained model playing against itself\n",
    "games = []\n",
    "\n",
    "for j in range(100):\n",
    "    game_scores = 0\n",
    "    player = 0\n",
    "    for i in range(100):\n",
    "        history = np.array([], dtype=int)\n",
    "        rolls = np.random.randint(1, SIDES_PER_DIE+1, (PLAYERS, DICE_PER_PLAYER))\n",
    "        while True:\n",
    "            valid_action_count = NUM_ACTIONS if len(history) == 0 else NUM_ACTIONS - history[-1] - 1\n",
    "            invalid_actions = NUM_ACTIONS - valid_action_count\n",
    "            node = get_node(nodes, history, rolls[player])\n",
    "            action = invalid_actions + node.get_action()\n",
    "\n",
    "            history = np.append(history[max(len(history)-HISTORY_RECALL+1, 0):], action)\n",
    "            if action == DUDO_ACTION:\n",
    "                win_payoff = 1 if player == 1 else -1\n",
    "                if get_terminal_payout(history, rolls) == win_payoff:\n",
    "                    game_scores += 1\n",
    "                else:\n",
    "                    game_scores -= 1\n",
    "                break\n",
    "            player = 1 - player\n",
    "    games.append(game_scores)\n",
    "\n",
    "# No suprise, the average score when playing against itself is close to 0, i.e. it is not better than itself\n",
    "plt.plot(sorted(games))\n",
    "print(\"Mean score:\", np.mean(games), \"Median score:\", np.median(games))"
   ]
  },
  {
   "cell_type": "code",
   "execution_count": null,
   "metadata": {},
   "outputs": [
    {
     "name": "stdout",
     "output_type": "stream",
     "text": [
      "You rolled [6]\n",
      "Valid actions are: ['0:(1, 2)', '1:(1, 3)', '2:(1, 4)', '3:(1, 5)', '4:(1, 6)', '5:(1, 1)', '6:(2, 2)', '7:(2, 3)', '8:(2, 4)', '9:(2, 5)', '10:(2, 6)', '11:(2, 1)']\n",
      "You call: (1, 6)\n",
      "Opponent calls: (1, 1)\n",
      "Valid actions are: ['6:(2, 2)', '7:(2, 3)', '8:(2, 4)', '9:(2, 5)', '10:(2, 6)', '11:(2, 1)', '12:Dudo']\n",
      "You call: (2, 6)\n",
      "Opponent calls: (2, 1)\n",
      "Valid actions are: ['12:Dudo']\n",
      "You call: Dudo\n",
      "Actual rolls: [[6], [1]]\n",
      "You win!\n"
     ]
    }
   ],
   "source": [
    "# play against the trained model\n",
    "rolls = np.random.randint(1, SIDES_PER_DIE+1, (PLAYERS, DICE_PER_PLAYER))\n",
    "print(\"You rolled\", rolls[0])\n",
    "\n",
    "player = np.random.randint(0, 2)\n",
    "history = np.array([], dtype=int)\n",
    "while True:\n",
    "    valid_action_count = NUM_ACTIONS if len(history) == 0 else NUM_ACTIONS - history[-1] - 1\n",
    "    invalid_actions = NUM_ACTIONS - valid_action_count\n",
    "    if player == 0:\n",
    "        valid_actions = np.arange(invalid_actions, invalid_actions + min(valid_action_count, DUDO_ACTION))\n",
    "        valid_actions_text = [str(a) + \":\" + str(action_to_claim(a)) for a in valid_actions]\n",
    "        print(\"Valid actions are:\", valid_actions_text)\n",
    "        sys.stdout.flush()\n",
    "        \n",
    "        string_action = input(\"Choose action\")\n",
    "        try:\n",
    "            action = int(string_action)\n",
    "        except:\n",
    "            print(\"Action has to be a valid number\", string_action)\n",
    "            continue\n",
    "\n",
    "        if action not in valid_actions:\n",
    "            print(\"Invalid action:\", int(action))\n",
    "            continue\n",
    "        print(\"You call:\", action_to_claim(action))\n",
    "    else:\n",
    "        node = get_node(nodes, history, rolls[player])\n",
    "        action = invalid_actions + node.get_action()\n",
    "        print(\"Opponent calls:\", action_to_claim(action))\n",
    "\n",
    "    history = np.append(history[max(len(history)-HISTORY_RECALL+1, 0):], action) \n",
    "    if action == DUDO_ACTION:\n",
    "        win_payoff = 1 if player == 1 else -1\n",
    "        print(\"Actual rolls:\", rolls.tolist())\n",
    "        if get_terminal_payout(history, rolls) == win_payoff:\n",
    "            print(\"You win!\")\n",
    "        else:\n",
    "            print(\"You lose!\")\n",
    "        break\n",
    "    player = 1 - player"
   ]
  }
 ],
 "metadata": {
  "kernelspec": {
   "display_name": "Python 3",
   "language": "python",
   "name": "python3"
  },
  "language_info": {
   "codemirror_mode": {
    "name": "ipython",
    "version": 3
   },
   "file_extension": ".py",
   "mimetype": "text/x-python",
   "name": "python",
   "nbconvert_exporter": "python",
   "pygments_lexer": "ipython3",
   "version": "3.11.7"
  }
 },
 "nbformat": 4,
 "nbformat_minor": 2
}
