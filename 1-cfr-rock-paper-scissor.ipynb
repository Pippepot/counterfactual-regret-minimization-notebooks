{
 "cells": [
  {
   "cell_type": "code",
   "execution_count": 2,
   "metadata": {},
   "outputs": [],
   "source": [
    "import numpy as np\n",
    "import random\n",
    "import matplotlib.pyplot as plt"
   ]
  },
  {
   "cell_type": "code",
   "execution_count": 3,
   "metadata": {},
   "outputs": [],
   "source": [
    "ROCK, PAPER, SCISSORS = 0, 1, 2\n",
    "NUM_ACTIONS = 3"
   ]
  },
  {
   "cell_type": "code",
   "execution_count": 4,
   "metadata": {},
   "outputs": [],
   "source": [
    "def normalize(value):\n",
    "    normalizing_sum = np.sum(value)\n",
    "    if normalizing_sum > 0:\n",
    "        return value / normalizing_sum\n",
    "    return np.ones(value.shape[0])/value.shape[0]\n",
    "\n",
    "def get_strategy(regret_sum):\n",
    "    return normalize(np.maximum(regret_sum, 0))\n",
    "\n",
    "def get_action(strategy):\n",
    "    strategy = strategy / np.sum(strategy)\n",
    "    return np.searchsorted(np.cumsum(strategy), random.random())\n",
    "\n",
    "def get_utility(opponent_action):\n",
    "    action_utility = np.zeros(NUM_ACTIONS)\n",
    "    action_utility[opponent_action] = 0\n",
    "    action_utility[(opponent_action + 1) % NUM_ACTIONS] = 1\n",
    "    action_utility[(opponent_action - 1) % NUM_ACTIONS] = -1\n",
    "    return action_utility"
   ]
  },
  {
   "cell_type": "code",
   "execution_count": 5,
   "metadata": {},
   "outputs": [],
   "source": [
    "def inner_train(regret_sum, strategy_sum, opponent_strategy):\n",
    "    # accumulate the current strategy based on regret\n",
    "    strategy = get_strategy(regret_sum)\n",
    "    strategy_sum += strategy\n",
    "\n",
    "    # select my action and opponent action\n",
    "    my_action = get_action(strategy)\n",
    "    opponent_action = get_action(opponent_strategy)\n",
    "    \n",
    "    action_utility = get_utility(opponent_action)\n",
    "\n",
    "    regret_sum += action_utility - action_utility[my_action]\n",
    "    return regret_sum, strategy_sum\n",
    "\n",
    "\n",
    "def train(iterations):\n",
    "    regret_sum = np.zeros(NUM_ACTIONS)\n",
    "    strategy_sum = np.zeros(NUM_ACTIONS)\n",
    "    opponent_strategy = np.array([0.4, 0.3, 0.3])\n",
    "    \n",
    "    for _ in range(iterations):\n",
    "        regret_sum, strategy_sum = inner_train(regret_sum, strategy_sum, opponent_strategy)\n",
    "    return strategy_sum\n",
    "\n",
    "def train_2_players(outer_iterations, iterations):\n",
    "    strategy_sum_p1 = np.zeros(NUM_ACTIONS)\n",
    "    strategy_sum_p2 = np.zeros(NUM_ACTIONS)\n",
    "\n",
    "    for _ in range(outer_iterations):\n",
    "        opponent_strategy = normalize(strategy_sum_p2)\n",
    "        regret_sum_p1 = np.zeros(NUM_ACTIONS)\n",
    "        for i in range(iterations):\n",
    "            # train p1\n",
    "            regret_sum_p1, strategy_sum_p1 = inner_train(regret_sum_p1, strategy_sum_p1, opponent_strategy)\n",
    "\n",
    "        opponent_strategy = normalize(strategy_sum_p1)\n",
    "        regret_sum_p2 = np.zeros(NUM_ACTIONS)\n",
    "        for i in range(iterations):\n",
    "            # train p2\n",
    "            regret_sum_p2, strategy_sum_p2 = inner_train(regret_sum_p2, strategy_sum_p2, opponent_strategy)\n",
    "\n",
    "        print(normalize(strategy_sum_p1), normalize(strategy_sum_p2))\n",
    "    return strategy_sum_p1, strategy_sum_p2\n"
   ]
  },
  {
   "cell_type": "code",
   "execution_count": 6,
   "metadata": {},
   "outputs": [
    {
     "data": {
      "text/plain": [
       "array([1.91152409e-03, 9.97947169e-01, 1.41306804e-04])"
      ]
     },
     "execution_count": 6,
     "metadata": {},
     "output_type": "execute_result"
    }
   ],
   "source": [
    "strategy_sum = train(100000)\n",
    "normalize(strategy_sum)"
   ]
  },
  {
   "cell_type": "code",
   "execution_count": 11,
   "metadata": {},
   "outputs": [
    {
     "name": "stdout",
     "output_type": "stream",
     "text": [
      "[0.03143798 0.44717767 0.52138435] [1.91413059e-02 3.33333333e-04 9.80525361e-01]\n",
      "[0.51538566 0.2237555  0.26085884] [0.01056232 0.49875833 0.49067935]\n",
      "[0.34370155 0.14928144 0.50701701] [0.33584354 0.33670357 0.3274529 ]\n",
      "[0.26143331 0.34575573 0.39281097] [0.49477216 0.25454515 0.25068268]\n",
      "[0.20960442 0.47448123 0.31591435] [0.3958844  0.20370279 0.40041281]\n",
      "[0.33891075 0.3977347  0.26335455] [0.33092726 0.26320442 0.40586832]\n",
      "[0.43183541 0.34233688 0.22582771] [0.28374717 0.36831807 0.34793475]\n",
      "[0.39939233 0.3157323  0.28487537] [0.24872669 0.44668456 0.30458874]\n",
      "[0.35558207 0.28640244 0.35801549] [0.33175706 0.39742332 0.27081962]\n",
      "[0.32513568 0.30118058 0.37368374] [0.39703621 0.35860934 0.24435445]\n",
      "[0.29572941 0.36397477 0.34029582] [0.36524676 0.32860778 0.30614547]\n",
      "[0.27115473 0.41565366 0.31319161] [0.33483731 0.30127935 0.36388334]\n",
      "[0.29460491 0.4009486  0.30444649] [0.30910623 0.27881769 0.41207608]\n",
      "[0.34371462 0.37239672 0.28388866] [0.29492311 0.30211377 0.40296312]\n",
      "[0.38707015 0.34791895 0.2650109 ] [0.27660996 0.34535585 0.3780342 ]\n"
     ]
    },
    {
     "data": {
      "text/plain": [
       "(array([0.38707015, 0.34791895, 0.2650109 ]),\n",
       " array([0.27660996, 0.34535585, 0.3780342 ]))"
      ]
     },
     "execution_count": 11,
     "metadata": {},
     "output_type": "execute_result"
    }
   ],
   "source": [
    "s1, s2 = train_2_players(15, 1000)\n",
    "normalize(s1), normalize(s2)"
   ]
  },
  {
   "cell_type": "code",
   "execution_count": 17,
   "metadata": {},
   "outputs": [
    {
     "name": "stdout",
     "output_type": "stream",
     "text": [
      "Mean score: -0.3 Median score: 0.0\n"
     ]
    },
    {
     "data": {
      "image/png": "[encoded data removed]",
      "text/plain": [
       "<Figure size 640x480 with 1 Axes>"
      ]
     },
     "metadata": {},
     "output_type": "display_data"
    }
   ],
   "source": [
    "games = []\n",
    "\n",
    "for j in range(100):\n",
    "    game_scores = 0\n",
    "    for i in range(100):\n",
    "        action = get_action(s1)\n",
    "        opponent_action = get_action(s2)\n",
    "        game_scores += get_utility(action)[opponent_action]\n",
    "    games.append(game_scores)\n",
    "\n",
    "plt.plot(sorted(games))\n",
    "print(\"Mean score:\", np.mean(games), \"Median score:\", np.median(games))"
   ]
  }
 ],
 "metadata": {
  "kernelspec": {
   "display_name": "Python 3",
   "language": "python",
   "name": "python3"
  },
  "language_info": {
   "codemirror_mode": {
    "name": "ipython",
    "version": 3
   },
   "file_extension": ".py",
   "mimetype": "text/x-python",
   "name": "python",
   "nbconvert_exporter": "python",
   "pygments_lexer": "ipython3",
   "version": "3.11.7"
  }
 },
 "nbformat": 4,
 "nbformat_minor": 2
}
